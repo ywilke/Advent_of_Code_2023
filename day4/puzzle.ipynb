{
 "cells": [
  {
   "cell_type": "code",
   "execution_count": 1,
   "metadata": {},
   "outputs": [],
   "source": [
    "from aocd.models import Puzzle\n",
    "\n",
    "puzzle = Puzzle(year=2023, day=4)"
   ]
  },
  {
   "cell_type": "markdown",
   "metadata": {},
   "source": [
    "--- Day 4: Scratchcards ---\n",
    "\n",
    "The gondola takes you up. Strangely, though, the ground doesn't seem to be coming with you; you're not climbing a mountain. As the circle of Snow Island recedes below you, an entire new landmass suddenly appears above you! The gondola carries you to the surface of the new island and lurches into the station.\n",
    "\n",
    "As you exit the gondola, the first thing you notice is that the air here is much warmer than it was on Snow Island. It's also quite humid. Is this where the water source is?\n",
    "\n",
    "The next thing you notice is an Elf sitting on the floor across the station in what seems to be a pile of colorful square cards.\n",
    "\n",
    "\"Oh! Hello!\" The Elf excitedly runs over to you. \"How may I be of service?\" You ask about water sources.\n",
    "\n",
    "\"I'm not sure; I just operate the gondola lift. That does sound like something we'd have, though - this is Island Island, after all! I bet the gardener would know. He's on a different island, though - er, the small kind surrounded by water, not the floating kind. We really need to come up with a better naming scheme. Tell you what: if you can help me with something quick, I'll let you borrow my boat and you can go visit the gardener. I got all these scratchcards as a gift, but I can't figure out what I've won.\"\n",
    "\n",
    "The Elf leads you over to the pile of colorful cards. There, you discover dozens of scratchcards, all with their opaque covering already scratched off. Picking one up, it looks like each card has two lists of numbers separated by a vertical bar (|): a list of winning numbers and then a list of numbers you have. You organize the information into a table (your puzzle input).\n",
    "\n",
    "As far as the Elf has been able to figure out, you have to figure out which of the numbers you have appear in the list of winning numbers. The first match makes the card worth one point and each match after the first doubles the point value of that card.\n",
    "\n",
    "For example:\n",
    "\n",
    "Card 1: 41 48 83 86 17 | 83 86  6 31 17  9 48 53\n",
    "Card 2: 13 32 20 16 61 | 61 30 68 82 17 32 24 19\n",
    "Card 3:  1 21 53 59 44 | 69 82 63 72 16 21 14  1\n",
    "Card 4: 41 92 73 84 69 | 59 84 76 51 58  5 54 83\n",
    "Card 5: 87 83 26 28 32 | 88 30 70 12 93 22 82 36\n",
    "Card 6: 31 18 13 56 72 | 74 77 10 23 35 67 36 11\n",
    "\n",
    "In the above example, card 1 has five winning numbers (41, 48, 83, 86, and 17) and eight numbers you have (83, 86, 6, 31, 17, 9, 48, and 53). Of the numbers you have, four of them (48, 83, 17, and 86) are winning numbers! That means card 1 is worth 8 points (1 for the first match, then doubled three times for each of the three matches after the first).\n",
    "\n",
    "    Card 2 has two winning numbers (32 and 61), so it is worth 2 points.\n",
    "    Card 3 has two winning numbers (1 and 21), so it is worth 2 points.\n",
    "    Card 4 has one winning number (84), so it is worth 1 point.\n",
    "    Card 5 has no winning numbers, so it is worth no points.\n",
    "    Card 6 has no winning numbers, so it is worth no points.\n",
    "\n",
    "So, in this example, the Elf's pile of scratchcards is worth 13 points.\n",
    "\n",
    "Take a seat in the large pile of colorful cards. How many points are they worth in total?\n"
   ]
  },
  {
   "cell_type": "code",
   "execution_count": 21,
   "metadata": {},
   "outputs": [],
   "source": [
    "input_list = puzzle.input_data.split(\"\\n\")\n",
    "\n",
    "card_score_sum = 0\n",
    "for line in input_list:\n",
    "    card_score = 0\n",
    "    card, card_data = line.split(\":\")\n",
    "    card_nr = card.split()[1]\n",
    "    winning_numbers, current_numbers = card_data.split(\"|\")\n",
    "    winning_numbers = winning_numbers.split()\n",
    "    current_numbers = current_numbers.split()\n",
    "    for nr in current_numbers:\n",
    "        if nr in winning_numbers:\n",
    "            if card_score == 0:\n",
    "                 card_score += 1\n",
    "            else:\n",
    "                card_score *= 2\n",
    "    card_score_sum += card_score\n",
    "\n",
    "puzzle.answer_a = card_score_sum"
   ]
  },
  {
   "cell_type": "markdown",
   "metadata": {},
   "source": [
    "--- Part Two ---\n",
    "\n",
    "Just as you're about to report your findings to the Elf, one of you realizes that the rules have actually been printed on the back of every card this whole time.\n",
    "\n",
    "There's no such thing as \"points\". Instead, scratchcards only cause you to win more scratchcards equal to the number of winning numbers you have.\n",
    "\n",
    "Specifically, you win copies of the scratchcards below the winning card equal to the number of matches. So, if card 10 were to have 5 matching numbers, you would win one copy each of cards 11, 12, 13, 14, and 15.\n",
    "\n",
    "Copies of scratchcards are scored like normal scratchcards and have the same card number as the card they copied. So, if you win a copy of card 10 and it has 5 matching numbers, it would then win a copy of the same cards that the original card 10 won: cards 11, 12, 13, 14, and 15. This process repeats until none of the copies cause you to win any more cards. (Cards will never make you copy a card past the end of the table.)\n",
    "\n",
    "This time, the above example goes differently:\n",
    "\n",
    "Card 1: 41 48 83 86 17 | 83 86  6 31 17  9 48 53\n",
    "Card 2: 13 32 20 16 61 | 61 30 68 82 17 32 24 19\n",
    "Card 3:  1 21 53 59 44 | 69 82 63 72 16 21 14  1\n",
    "Card 4: 41 92 73 84 69 | 59 84 76 51 58  5 54 83\n",
    "Card 5: 87 83 26 28 32 | 88 30 70 12 93 22 82 36\n",
    "Card 6: 31 18 13 56 72 | 74 77 10 23 35 67 36 11\n",
    "\n",
    "    Card 1 has four matching numbers, so you win one copy each of the next four cards: cards 2, 3, 4, and 5.\n",
    "    Your original card 2 has two matching numbers, so you win one copy each of cards 3 and 4.\n",
    "    Your copy of card 2 also wins one copy each of cards 3 and 4.\n",
    "    Your four instances of card 3 (one original and three copies) have two matching numbers, so you win four copies each of cards 4 and 5.\n",
    "    Your eight instances of card 4 (one original and seven copies) have one matching number, so you win eight copies of card 5.\n",
    "    Your fourteen instances of card 5 (one original and thirteen copies) have no matching numbers and win no more cards.\n",
    "    Your one instance of card 6 (one original) has no matching numbers and wins no more cards.\n",
    "\n",
    "Once all of the originals and copies have been processed, you end up with 1 instance of card 1, 2 instances of card 2, 4 instances of card 3, 8 instances of card 4, 14 instances of card 5, and 1 instance of card 6. In total, this example pile of scratchcards causes you to ultimately have 30 scratchcards!\n",
    "\n",
    "Process all of the original and copied scratchcards until no more scratchcards are won. Including the original set of scratchcards, how many total scratchcards do you end up with?\n"
   ]
  },
  {
   "cell_type": "code",
   "execution_count": 30,
   "metadata": {},
   "outputs": [
    {
     "name": "stdout",
     "output_type": "stream",
     "text": [
      "{1: 7, 2: 10, 3: 2, 4: 10, 5: 9, 6: 6, 7: 7, 8: 1, 9: 7, 10: 6, 11: 4, 12: 1, 13: 4, 14: 3, 15: 3, 16: 1, 17: 1, 18: 1, 19: 0, 20: 10, 21: 10, 22: 10, 23: 10, 24: 10, 25: 4, 26: 3, 27: 1, 28: 10, 29: 5, 30: 10, 31: 6, 32: 10, 33: 10, 34: 3, 35: 3, 36: 5, 37: 7, 38: 3, 39: 2, 40: 0, 41: 3, 42: 0, 43: 1, 44: 0, 45: 9, 46: 10, 47: 1, 48: 8, 49: 10, 50: 1, 51: 3, 52: 0, 53: 9, 54: 5, 55: 2, 56: 5, 57: 5, 58: 3, 59: 3, 60: 2, 61: 0, 62: 0, 63: 10, 64: 2, 65: 8, 66: 10, 67: 9, 68: 6, 69: 8, 70: 3, 71: 7, 72: 9, 73: 3, 74: 2, 75: 8, 76: 4, 77: 5, 78: 3, 79: 4, 80: 0, 81: 0, 82: 1, 83: 0, 84: 10, 85: 8, 86: 10, 87: 3, 88: 6, 89: 5, 90: 9, 91: 4, 92: 6, 93: 6, 94: 1, 95: 4, 96: 5, 97: 0, 98: 6, 99: 4, 100: 1, 101: 3, 102: 2, 103: 1, 104: 0, 105: 7, 106: 10, 107: 6, 108: 5, 109: 4, 110: 3, 111: 4, 112: 2, 113: 3, 114: 5, 115: 2, 116: 2, 117: 2, 118: 2, 119: 2, 120: 0, 121: 0, 122: 0, 123: 0, 124: 10, 125: 7, 126: 2, 127: 6, 128: 10, 129: 2, 130: 9, 131: 6, 132: 0, 133: 1, 134: 0, 135: 4, 136: 1, 137: 2, 138: 0, 139: 0, 140: 0, 141: 2, 142: 4, 143: 10, 144: 10, 145: 10, 146: 0, 147: 10, 148: 2, 149: 10, 150: 0, 151: 1, 152: 0, 153: 3, 154: 4, 155: 6, 156: 2, 157: 2, 158: 0, 159: 1, 160: 1, 161: 0, 162: 8, 163: 7, 164: 4, 165: 1, 166: 9, 167: 1, 168: 2, 169: 0, 170: 5, 171: 2, 172: 3, 173: 3, 174: 1, 175: 1, 176: 1, 177: 0, 178: 0, 179: 2, 180: 0, 181: 4, 182: 9, 183: 10, 184: 0, 185: 2, 186: 7, 187: 1, 188: 4, 189: 1, 190: 2, 191: 0, 192: 0, 193: 0, 194: 0}\n",
      "\u001b[32mThat's the right answer!  You are one gold star closer to restoring snow operations.You have completed Day 4! You can [Shareon\n",
      "  Twitter\n",
      "Mastodon] this victory or [Return to Your Advent Calendar].\u001b[0m\n"
     ]
    },
    {
     "name": "stderr",
     "output_type": "stream",
     "text": [
      "gio: https://adventofcode.com/2023/day/4#part2: Operation not supported\n"
     ]
    }
   ],
   "source": [
    "input_list = puzzle.input_data.split(\"\\n\")\n",
    "\n",
    "cards_win_count = {}\n",
    "for line in input_list:\n",
    "    card_wins = 0\n",
    "    card, card_data = line.split(\":\")\n",
    "    card_nr = int(card.split()[1])\n",
    "    winning_numbers, current_numbers = card_data.split(\"|\")\n",
    "    winning_numbers = winning_numbers.split()\n",
    "    current_numbers = current_numbers.split()\n",
    "    for nr in current_numbers:\n",
    "        if nr in winning_numbers:\n",
    "            card_wins += 1\n",
    "    cards_win_count[card_nr] = card_wins\n",
    "\n",
    "print(cards_win_count)\n",
    "cards_count = {card_nr: 1 for card_nr in cards_win_count}\n",
    "\n",
    "for original_card_nr, card_wins in cards_win_count.items():\n",
    "    nr_cards = cards_count[original_card_nr]\n",
    "    for i in range(1, card_wins + 1):\n",
    "        won_card_nr = original_card_nr + i\n",
    "        cards_count[won_card_nr] += nr_cards\n",
    "\n",
    "total_cards = sum(cards_count.values())\n",
    "\n",
    "puzzle.answer_b = total_cards"
   ]
  }
 ],
 "metadata": {
  "kernelspec": {
   "display_name": "advent_of_code_2023",
   "language": "python",
   "name": "python3"
  },
  "language_info": {
   "codemirror_mode": {
    "name": "ipython",
    "version": 3
   },
   "file_extension": ".py",
   "mimetype": "text/x-python",
   "name": "python",
   "nbconvert_exporter": "python",
   "pygments_lexer": "ipython3",
   "version": "3.11.5"
  }
 },
 "nbformat": 4,
 "nbformat_minor": 2
}
