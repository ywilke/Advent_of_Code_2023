{
 "cells": [
  {
   "cell_type": "code",
   "execution_count": 14,
   "metadata": {},
   "outputs": [],
   "source": [
    "from aocd.models import Puzzle\n",
    "import math\n",
    "\n",
    "puzzle = Puzzle(year=2023, day=8)"
   ]
  },
  {
   "cell_type": "markdown",
   "metadata": {},
   "source": [
    "--- Day 8: Haunted Wasteland ---\n",
    "\n",
    "You're still riding a camel across Desert Island when you spot a sandstorm quickly approaching. When you turn to warn the Elf, she disappears before your eyes! To be fair, she had just finished warning you about ghosts a few minutes ago.\n",
    "\n",
    "One of the camel's pouches is labeled \"maps\" - sure enough, it's full of documents (your puzzle input) about how to navigate the desert. At least, you're pretty sure that's what they are; one of the documents contains a list of left/right instructions, and the rest of the documents seem to describe some kind of network of labeled nodes.\n",
    "\n",
    "It seems like you're meant to use the left/right instructions to navigate the network. Perhaps if you have the camel follow the same instructions, you can escape the haunted wasteland!\n",
    "\n",
    "After examining the maps for a bit, two nodes stick out: AAA and ZZZ. You feel like AAA is where you are now, and you have to follow the left/right instructions until you reach ZZZ.\n",
    "\n",
    "This format defines each node of the network individually. For example:\n",
    "\n",
    "RL\n",
    "\n",
    "AAA = (BBB, CCC)\n",
    "BBB = (DDD, EEE)\n",
    "CCC = (ZZZ, GGG)\n",
    "DDD = (DDD, DDD)\n",
    "EEE = (EEE, EEE)\n",
    "GGG = (GGG, GGG)\n",
    "ZZZ = (ZZZ, ZZZ)\n",
    "\n",
    "Starting with AAA, you need to look up the next element based on the next left/right instruction in your input. In this example, start with AAA and go right (R) by choosing the right element of AAA, CCC. Then, L means to choose the left element of CCC, ZZZ. By following the left/right instructions, you reach ZZZ in 2 steps.\n",
    "\n",
    "Of course, you might not find ZZZ right away. If you run out of left/right instructions, repeat the whole sequence of instructions as necessary: RL really means RLRLRLRLRLRLRLRL... and so on. For example, here is a situation that takes 6 steps to reach ZZZ:\n",
    "\n",
    "LLR\n",
    "\n",
    "AAA = (BBB, BBB)\n",
    "BBB = (AAA, ZZZ)\n",
    "ZZZ = (ZZZ, ZZZ)\n",
    "\n",
    "Starting at AAA, follow the left/right instructions. How many steps are required to reach ZZZ?\n"
   ]
  },
  {
   "cell_type": "code",
   "execution_count": 7,
   "metadata": {},
   "outputs": [],
   "source": [
    "input_list = puzzle.input_data.split(\"\\n\")\n",
    "\n",
    "instructions = input_list[0]\n",
    "\n",
    "nodes = {}\n",
    "for node in input_list[2:]:\n",
    "    node_id, node_targets = node.split(\"=\")\n",
    "    node_id = node_id.rstrip()\n",
    "    node_left = node_targets[2:5]\n",
    "    node_right = node_targets[7:10]\n",
    "    nodes[node_id] = {\"L\": node_left, \"R\": node_right}\n",
    "\n",
    "\n",
    "\n",
    "end_node = \"ZZZ\"\n",
    "intruction_i = 0\n",
    "cur_node = \"AAA\"\n",
    "steps = 0\n",
    "while True:\n",
    "    instruction = instructions[intruction_i]\n",
    "    next_node = nodes[cur_node][instruction]\n",
    "    steps += 1\n",
    "    if next_node == end_node:\n",
    "        break\n",
    "    cur_node = next_node\n",
    "    intruction_i += 1\n",
    "    if intruction_i >= len(instructions):\n",
    "        intruction_i = 0\n",
    "\n",
    "puzzle.answer_a = steps"
   ]
  },
  {
   "cell_type": "markdown",
   "metadata": {},
   "source": [
    "--- Part Two ---\n",
    "\n",
    "The sandstorm is upon you and you aren't any closer to escaping the wasteland. You had the camel follow the instructions, but you've barely left your starting position. It's going to take significantly more steps to escape!\n",
    "\n",
    "What if the map isn't for people - what if the map is for ghosts? Are ghosts even bound by the laws of spacetime? Only one way to find out.\n",
    "\n",
    "After examining the maps a bit longer, your attention is drawn to a curious fact: the number of nodes with names ending in A is equal to the number ending in Z! If you were a ghost, you'd probably just start at every node that ends with A and follow all of the paths at the same time until they all simultaneously end up at nodes that end with Z.\n",
    "\n",
    "For example:\n",
    "\n",
    "LR\n",
    "\n",
    "11A = (11B, XXX)\n",
    "11B = (XXX, 11Z)\n",
    "11Z = (11B, XXX)\n",
    "22A = (22B, XXX)\n",
    "22B = (22C, 22C)\n",
    "22C = (22Z, 22Z)\n",
    "22Z = (22B, 22B)\n",
    "XXX = (XXX, XXX)\n",
    "\n",
    "Here, there are two starting nodes, 11A and 22A (because they both end with A). As you follow each left/right instruction, use that instruction to simultaneously navigate away from both nodes you're currently on. Repeat this process until all of the nodes you're currently on end with Z. (If only some of the nodes you're on end with Z, they act like any other node and you continue as normal.) In this example, you would proceed as follows:\n",
    "\n",
    "    Step 0: You are at 11A and 22A.\n",
    "    Step 1: You choose all of the left paths, leading you to 11B and 22B.\n",
    "    Step 2: You choose all of the right paths, leading you to 11Z and 22C.\n",
    "    Step 3: You choose all of the left paths, leading you to 11B and 22Z.\n",
    "    Step 4: You choose all of the right paths, leading you to 11Z and 22B.\n",
    "    Step 5: You choose all of the left paths, leading you to 11B and 22C.\n",
    "    Step 6: You choose all of the right paths, leading you to 11Z and 22Z.\n",
    "\n",
    "So, in this example, you end up entirely on nodes that end in Z after 6 steps.\n",
    "\n",
    "Simultaneously start on every node that ends with A. How many steps does it take before you're only on nodes that end with Z?\n"
   ]
  },
  {
   "cell_type": "code",
   "execution_count": 16,
   "metadata": {},
   "outputs": [
    {
     "name": "stdout",
     "output_type": "stream",
     "text": [
      "\u001b[32mThat's the right answer!  You are one gold star closer to restoring snow operations.You have completed Day 8! You can [Shareon\n",
      "  Twitter\n",
      "Mastodon] this victory or [Return to Your Advent Calendar].\u001b[0m\n"
     ]
    },
    {
     "name": "stderr",
     "output_type": "stream",
     "text": [
      "gio: https://adventofcode.com/2023/day/8#part2: Operation not supported\n"
     ]
    }
   ],
   "source": [
    "input_list = puzzle.input_data.split(\"\\n\")\n",
    "\n",
    "instructions = input_list[0]\n",
    "\n",
    "nodes = {}\n",
    "for node in input_list[2:]:\n",
    "    node_id, node_targets = node.split(\"=\")\n",
    "    node_id = node_id.rstrip()\n",
    "    node_left = node_targets[2:5]\n",
    "    node_right = node_targets[7:10]\n",
    "    nodes[node_id] = {\"L\": node_left, \"R\": node_right}\n",
    "\n",
    "\n",
    "def get_loop_length(cur_node):\n",
    "    intruction_i = 0\n",
    "    steps = 0\n",
    "    last_hit = 0\n",
    "    while True:\n",
    "        instruction = instructions[intruction_i]\n",
    "        next_node = nodes[cur_node][instruction]\n",
    "        steps += 1\n",
    "        if next_node.endswith(\"Z\"):\n",
    "            break\n",
    "\n",
    "        cur_node = next_node\n",
    "        intruction_i += 1\n",
    "        if intruction_i >= len(instructions):\n",
    "            intruction_i = 0\n",
    "    return steps\n",
    "\n",
    "start_nodes = [node_id for node_id in nodes if node_id.endswith(\"A\")]\n",
    "loop_lengths = [get_loop_length(start_node) for start_node in start_nodes]\n",
    "\n",
    "total_steps = math.lcm(*loop_lengths)\n",
    "puzzle.answer_b = total_steps\n",
    "\n"
   ]
  }
 ],
 "metadata": {
  "kernelspec": {
   "display_name": "advent_of_code_2023",
   "language": "python",
   "name": "python3"
  },
  "language_info": {
   "codemirror_mode": {
    "name": "ipython",
    "version": 3
   },
   "file_extension": ".py",
   "mimetype": "text/x-python",
   "name": "python",
   "nbconvert_exporter": "python",
   "pygments_lexer": "ipython3",
   "version": "3.11.5"
  }
 },
 "nbformat": 4,
 "nbformat_minor": 2
}
