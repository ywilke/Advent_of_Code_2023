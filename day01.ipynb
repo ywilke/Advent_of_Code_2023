{
 "cells": [
  {
   "cell_type": "code",
   "execution_count": 2,
   "metadata": {},
   "outputs": [],
   "source": [
    "from aocd.models import Puzzle\n",
    "import re\n",
    "\n",
    "puzzle = Puzzle(year=2023, day=1)"
   ]
  },
  {
   "cell_type": "markdown",
   "metadata": {},
   "source": [
    "--- Day 1: Trebuchet?! ---\n",
    "\n",
    "Something is wrong with global snow production, and you've been selected to take a look. The Elves have even given you a map; on it, they've used stars to mark the top fifty locations that are likely to be having problems.\n",
    "\n",
    "You've been doing this long enough to know that to restore snow operations, you need to check all fifty stars by December 25th.\n",
    "\n",
    "Collect stars by solving puzzles. Two puzzles will be made available on each day in the Advent calendar; the second puzzle is unlocked when you complete the first. Each puzzle grants one star. Good luck!\n",
    "\n",
    "You try to ask why they can't just use a weather machine (\"not powerful enough\") and where they're even sending you (\"the sky\") and why your map looks mostly blank (\"you sure ask a lot of questions\") and hang on did you just say the sky (\"of course, where do you think snow comes from\") when you realize that the Elves are already loading you into a trebuchet (\"please hold still, we need to strap you in\").\n",
    "\n",
    "As they're making the final adjustments, they discover that their calibration document (your puzzle input) has been amended by a very young Elf who was apparently just excited to show off her art skills. Consequently, the Elves are having trouble reading the values on the document.\n",
    "\n",
    "The newly-improved calibration document consists of lines of text; each line originally contained a specific calibration value that the Elves now need to recover. On each line, the calibration value can be found by combining the first digit and the last digit (in that order) to form a single two-digit number.\n",
    "\n",
    "For example:\n",
    "\n",
    "1abc2\n",
    "pqr3stu8vwx\n",
    "a1b2c3d4e5f\n",
    "treb7uchet\n",
    "\n",
    "In this example, the calibration values of these four lines are 12, 38, 15, and 77. Adding these together produces 142.\n",
    "\n",
    "Consider your entire calibration document. What is the sum of all of the calibration values?\n"
   ]
  },
  {
   "cell_type": "code",
   "execution_count": 8,
   "metadata": {},
   "outputs": [
    {
     "name": "stdout",
     "output_type": "stream",
     "text": [
      "calibration sum is: 53651\n"
     ]
    }
   ],
   "source": [
    "\n",
    "def day1a(input_data):\n",
    "    input_list = input_data.split(\"\\n\")\n",
    "\n",
    "    calibration_values = []\n",
    "    for line in input_list:\n",
    "        first_value = None\n",
    "        last_value = None\n",
    "        found_first = False\n",
    "        for char in line:\n",
    "            try:\n",
    "                value = int(char)\n",
    "                last_value = value\n",
    "                if found_first is False:\n",
    "                    first_value = value\n",
    "                    found_first = True\n",
    "            except ValueError:\n",
    "                pass\n",
    "        line_value = int(f\"{first_value}{last_value}\")\n",
    "        calibration_values.append(line_value)\n",
    "\n",
    "    calibration_sum = sum(calibration_values)\n",
    "    return calibration_sum\n",
    "\n",
    "\n",
    "day1a_anwser = day1a(puzzle.input_data)\n",
    "\n",
    "# Submit results\n",
    "print(\"calibration sum is:\", day1a_anwser )\n",
    "puzzle.answer_a = day1a_anwser "
   ]
  },
  {
   "cell_type": "code",
   "execution_count": 9,
   "metadata": {},
   "outputs": [
    {
     "name": "stdout",
     "output_type": "stream",
     "text": [
      "12.3 ms ± 108 µs per loop (mean ± std. dev. of 7 runs, 100 loops each)\n"
     ]
    }
   ],
   "source": [
    "%timeit day1a(puzzle.input_data)"
   ]
  },
  {
   "cell_type": "markdown",
   "metadata": {},
   "source": [
    "--- Part Two ---\n",
    "\n",
    "Your calculation isn't quite right. It looks like some of the digits are actually spelled out with letters: one, two, three, four, five, six, seven, eight, and nine also count as valid \"digits\".\n",
    "\n",
    "Equipped with this new information, you now need to find the real first and last digit on each line. For example:\n",
    "\n",
    "two1nine\n",
    "eightwothree\n",
    "abcone2threexyz\n",
    "xtwone3four\n",
    "4nineeightseven2\n",
    "zoneight234\n",
    "7pqrstsixteen\n",
    "\n",
    "In this example, the calibration values are 29, 83, 13, 24, 42, 14, and 76. Adding these together produces 281.\n",
    "\n",
    "What is the sum of all of the calibration values?\n"
   ]
  },
  {
   "cell_type": "code",
   "execution_count": 5,
   "metadata": {},
   "outputs": [
    {
     "name": "stdout",
     "output_type": "stream",
     "text": [
      "calibration sum is: 53894\n",
      "\u001b[32mThat's the right answer!  You are one gold star closer to restoring snow operations.You have completed Day 1! You can [Shareon\n",
      "  Twitter\n",
      "Mastodon] this victory or [Return to Your Advent Calendar].\u001b[0m\n"
     ]
    }
   ],
   "source": [
    "def day1b(input_data):\n",
    "    digit_word_dict = {\n",
    "    \"one\": \"1\",\n",
    "    \"two\": \"2\",\n",
    "    \"three\": \"3\",\n",
    "    \"four\": \"4\",\n",
    "    \"five\": \"5\",\n",
    "    \"six\": \"6\",\n",
    "    \"seven\": \"7\",\n",
    "    \"eight\": \"8\",\n",
    "    \"nine\": \"9\",\n",
    "    \"1\": \"1\",\n",
    "    \"2\": \"2\",\n",
    "    \"3\": \"3\",\n",
    "    \"4\": \"4\",\n",
    "    \"5\": \"5\",\n",
    "    \"6\": \"6\",\n",
    "    \"7\": \"7\",\n",
    "    \"8\": \"8\",\n",
    "    \"9\": \"9\",\n",
    "    }\n",
    "\n",
    "    # Format input\n",
    "    input_list = input_data.split(\"\\n\")\n",
    "\n",
    "    # Calculate calibration sum\n",
    "    calibration_sum = 0\n",
    "    for line in input_list:\n",
    "        digit_options = \"|\".join(digit_word_dict.keys())\n",
    "\n",
    "        # Get first digit\n",
    "        re_match = re.search(f\"({digit_options})\", line)\n",
    "        first_digit = digit_word_dict [re_match.group(1)]\n",
    "\n",
    "        # Get last digit\n",
    "        re_match = re.search(f\".*({digit_options})\", line)\n",
    "        last_digit = digit_word_dict [re_match.group(1)]\n",
    "\n",
    "        line_value = int(f\"{first_digit}{last_digit}\")\n",
    "        calibration_sum += line_value\n",
    "    return calibration_sum\n",
    "\n",
    "\n",
    "day1b_answer = day1b(puzzle.input_data)\n",
    "\n",
    "# Submit results\n",
    "print(\"calibration sum is:\", day1b_answer)\n",
    "puzzle.answer_b = day1b_answer"
   ]
  },
  {
   "cell_type": "code",
   "execution_count": 7,
   "metadata": {},
   "outputs": [
    {
     "name": "stdout",
     "output_type": "stream",
     "text": [
      "1.86 ms ± 21.8 µs per loop (mean ± std. dev. of 7 runs, 1,000 loops each)\n"
     ]
    }
   ],
   "source": [
    "%timeit day1b(puzzle.input_data)"
   ]
  }
 ],
 "metadata": {
  "kernelspec": {
   "display_name": "advent_of_code_2023",
   "language": "python",
   "name": "python3"
  },
  "language_info": {
   "codemirror_mode": {
    "name": "ipython",
    "version": 3
   },
   "file_extension": ".py",
   "mimetype": "text/x-python",
   "name": "python",
   "nbconvert_exporter": "python",
   "pygments_lexer": "ipython3",
   "version": "3.11.5"
  }
 },
 "nbformat": 4,
 "nbformat_minor": 2
}
